{
  "nbformat": 4,
  "nbformat_minor": 0,
  "metadata": {
    "colab": {
      "name": "Coleta de Dados - TXT.ipynb",
      "provenance": [],
      "authorship_tag": "ABX9TyM8As6NrIZh9qobGd9lSIW6",
      "include_colab_link": true
    },
    "kernelspec": {
      "name": "python3",
      "display_name": "Python 3"
    }
  },
  "cells": [
    {
      "cell_type": "markdown",
      "metadata": {
        "id": "view-in-github",
        "colab_type": "text"
      },
      "source": [
        "<a href=\"https://colab.research.google.com/github/GuiRokk/Bootcamp_Data_Science/blob/main/Coleta_de_Dados_TXT.ipynb\" target=\"_parent\"><img src=\"https://colab.research.google.com/assets/colab-badge.svg\" alt=\"Open In Colab\"/></a>"
      ]
    },
    {
      "cell_type": "markdown",
      "metadata": {
        "id": "dUtn60dOkRl8"
      },
      "source": [
        "# Importando as bibliotecas"
      ]
    },
    {
      "cell_type": "code",
      "metadata": {
        "id": "GDWJ8XldkBWq"
      },
      "source": [
        "import os\n",
        "from datetime import datetime"
      ],
      "execution_count": 215,
      "outputs": []
    },
    {
      "cell_type": "markdown",
      "metadata": {
        "id": "qOj1kX-4kfOF"
      },
      "source": [
        "# Definindo os métodos"
      ]
    },
    {
      "cell_type": "code",
      "metadata": {
        "id": "gYGeGTqIlkNy"
      },
      "source": [
        "#classe para formatar a função print\n",
        "\n",
        "class color:\n",
        "  PURPLE = '\\033[95m'\n",
        "  CYAN = '\\033[96m'\n",
        "  DARKCYAN = '\\033[36m'\n",
        "  BLUE = '\\033[94m'\n",
        "  GREEN = '\\033[92m'\n",
        "  YELLOW = '\\033[93m'\n",
        "  RED = '\\033[91m'\n",
        "  ORANGE = '\\033[33m'\n",
        "  BOLD = '\\033[1n'\n",
        "  UNDERLINE = '\\033[4m'\n",
        "  END = '\\033[0m'\n",
        "\n",
        "  #função que retorna o diretório das databases\n",
        "\n",
        "def setDatasetPath():\n",
        "  \n",
        "  return '/content/Datasets/'\n",
        "\n",
        "  #Método para leitura do arquivo (Lê todo o conteúdo de uma vez)\n",
        "\n",
        "def readFileContent(filename):\n",
        "  try:\n",
        "    fileobject=open(filename,'r',encoding='utf-8')\n",
        "    print(f'{color.BOLD}{color.BLUE}\\nO conteúdo do arquivo {filename} é:\\n{color.END}')\n",
        "    if fileobject.mode == 'r':\n",
        "      filecontents = fileobject.read()\n",
        "      print(filecontents) #imprime o conteúdo lido\n",
        "    fileobject.close()\n",
        "  except FileNotFoundError:\n",
        "    print(f'{color.BOLD}{color.RED}\\nErro ao tentar ler o arquivo! O arquivo {filename} não existe!{color.END}')\n",
        "\n",
        "    #Método para leitura de arquivo (Lê as linhas do aquivo e insere em uma lista)\n",
        "def readFileLines(filename):\n",
        "  try:\n",
        "    print(f'{color.BOLD}{color.BLUE}\\nAs linhas do arquivo {filename} são:\\n{color.END}')\n",
        "    fileobject = open(filename,'r',encoding='utf-8')\n",
        "    filelines = fileobject.readlines()\n",
        "    numline = 1\n",
        "    \n",
        "    #Loop -> Imprime cada linha para a lista de linhas\n",
        "    for line in filelines:\n",
        "      print('Linha '+str(numline)+': '+line,end = '')\n",
        "      numline=numline+1\n",
        "\n",
        "    fileobject.close()\n",
        "  except FileNotFoundError:\n",
        "    print(f'{color.BOLD}{color.RED}\\nErro ao tentar ler o arquivo! O arquivo {filename} não existe!{color.END}')\n",
        "\n",
        "    #Método para alteração de arquivo\n",
        "\n",
        "def appendFile(filename):\n",
        "\n",
        "  #Abrir o arquivo em modo de alteração -> 'a'\n",
        "  #criará um arquivo se o arquivo não existir\n",
        "  \n",
        "  fileobject=open(filename, 'a',encoding='utf-8')\n",
        "\n",
        "  fileobject.write('\\n')\n",
        "  fileobject.write('\\nOlá pessoal')\n",
        "  now = datetime.now()\n",
        "  date_time = now.strftime('%d/%m/%Y,%H:%M:%S') #busca a hora e data atual\n",
        "  fileobject.write(f'\\n--> Hoje é {str(date_time)}')\n",
        "\n",
        "  fileobject.write('\\n\\n')\n",
        "  fileobject.write('Olá pessoal!')\n",
        "  fileobject.write(f'--> Hoje é: {str(date_time)}')\n",
        "\n",
        "  fileobject.close()\n",
        "\n",
        "  #Método para escrita de arquivo\n",
        "\n",
        "def writeFile(filename):\n",
        "\n",
        "  #Abrir o arquivo em modo de alteração -> 'w'\n",
        "  #criará um arquivo se o arquivo não existir\n",
        "  #write substitui qualquer conteudo do arquivo existente. Cuidado!\n",
        "\n",
        "  fileobject=open(filename, 'w',encoding='utf-8')\n",
        "\n",
        "  fileobject.write(f'Abri o arquivo {filename} em modo de escrita(w)!')\n",
        "  now = datetime.now()\n",
        "  date_time = now.strftime('%d/%m/%Y,%H:%M:%S') #busca a hora e data atual\n",
        "  fileobject.write(f'\\n--> Hoje é {str(date_time)}')\n",
        "  fileobject.close()\n",
        "\n",
        "  #Método para criação de arquivo\n",
        "\n",
        "def createFile(filename):\n",
        "  \n",
        "  #Abrir o arquivo em modo open --> 'x\n",
        "  #criará um arquivo se o arquivo, retorna erro caso ele já exista\n",
        "  \n",
        "  try:\n",
        "    fileobject=open(filename, 'a',enconding='utf-8')\n",
        "    fileobject.write('Este é um novo arquivo usando o modo de criação(x)')\n",
        "    fileobject.close()\n",
        "  except FileExistsError:\n",
        "    print(f'\\nErro ao tentar criar o arquivo! O arquivo {filename} já existe!')"
      ],
      "execution_count": 216,
      "outputs": []
    },
    {
      "cell_type": "markdown",
      "metadata": {
        "id": "gzHq60rMwr7N"
      },
      "source": [
        "# Executa os métodos no 'main'"
      ]
    },
    {
      "cell_type": "code",
      "metadata": {
        "id": "jgVMlWl4wyTM"
      },
      "source": [
        "datasetPath = setDatasetPath()"
      ],
      "execution_count": 217,
      "outputs": []
    },
    {
      "cell_type": "markdown",
      "metadata": {
        "id": "xWHVy4_2w5ct"
      },
      "source": [
        "# Leitura do arquivo txt"
      ]
    },
    {
      "cell_type": "code",
      "metadata": {
        "colab": {
          "base_uri": "https://localhost:8080/"
        },
        "id": "TwCVc_WBw8z3",
        "outputId": "9e3b3e89-21c8-40d9-b814-38d4cf0f0b82"
      },
      "source": [
        "filename = datasetPath +'/ArquivoRead.txt'\n",
        "print(f'{color.CYAN}Será lido o seguinte arquivo: {color.END}{filename}')\n",
        "readFileContent(filename)"
      ],
      "execution_count": 218,
      "outputs": [
        {
          "output_type": "stream",
          "text": [
            "\u001b[96mSerá lido o seguinte arquivo: \u001b[0m/content/Datasets//ArquivoRead.txt\n",
            "\u001b[1n\u001b[94m\n",
            "O conteúdo do arquivo /content/Datasets//ArquivoRead.txt é:\n",
            "\u001b[0m\n",
            "Exemplo de coleta de dados de arquivo de texto\n",
            "\n",
            "Biscoito Natalino\n",
            "\n",
            "INGREDIENTES:\n",
            "200g amido de milho\n",
            "200g/meia lata leite condensado\n",
            "60g leite em pó ninho\n",
            "100g manteiga sem sal\n"
          ],
          "name": "stdout"
        }
      ]
    },
    {
      "cell_type": "markdown",
      "metadata": {
        "id": "ZZwfxrrx1NV_"
      },
      "source": [
        "# Lendo o arquivo linha a linha"
      ]
    },
    {
      "cell_type": "code",
      "metadata": {
        "colab": {
          "base_uri": "https://localhost:8080/"
        },
        "id": "yop818CZ1HOt",
        "outputId": "80b3a86e-f064-4494-bf81-77bb513b0b7d"
      },
      "source": [
        "readFileLines(filename)"
      ],
      "execution_count": 219,
      "outputs": [
        {
          "output_type": "stream",
          "text": [
            "\u001b[1n\u001b[94m\n",
            "As linhas do arquivo /content/Datasets//ArquivoRead.txt são:\n",
            "\u001b[0m\n",
            "Linha 1: Exemplo de coleta de dados de arquivo de texto\n",
            "Linha 2: \n",
            "Linha 3: Biscoito Natalino\n",
            "Linha 4: \n",
            "Linha 5: INGREDIENTES:\n",
            "Linha 6: 200g amido de milho\n",
            "Linha 7: 200g/meia lata leite condensado\n",
            "Linha 8: 60g leite em pó ninho\n",
            "Linha 9: 100g manteiga sem sal"
          ],
          "name": "stdout"
        }
      ]
    },
    {
      "cell_type": "markdown",
      "metadata": {
        "id": "zfibAbvg1et_"
      },
      "source": [
        "# Alteração de arquivo txt - append"
      ]
    },
    {
      "cell_type": "code",
      "metadata": {
        "colab": {
          "base_uri": "https://localhost:8080/"
        },
        "id": "QvbzkjNx1h6t",
        "outputId": "7f0d70d5-d40a-4549-8208-a25c5ef1db3c"
      },
      "source": [
        "print(f'{color.BOLD}{color.GREEN}Append em um arquivo que já existe!\\n{color.END}')\n",
        "filename = datasetPath +'/ArquivoAppend.txt'\n",
        "readFileContent(filename)\n",
        "appendFile(filename)\n",
        "readFileContent(filename)\n"
      ],
      "execution_count": 220,
      "outputs": [
        {
          "output_type": "stream",
          "text": [
            "\u001b[1n\u001b[92mAppend em um arquivo que já existe!\n",
            "\u001b[0m\n",
            "\u001b[1n\u001b[94m\n",
            "O conteúdo do arquivo /content/Datasets//ArquivoAppend.txt é:\n",
            "\u001b[0m\n",
            "Ginger Bread\n",
            "\n",
            "INGREDIENTES:\n",
            "350g Farinha de trigo\n",
            "20g amido de milho\n",
            "0,5 colher de sopa Gengibre\n",
            "0,5 colher de chá Canela\n",
            "colher rasa de café de Cravo em pó\n",
            "colher rasa de café de Nós Moscada\n",
            "150g manteiga sem sal\n",
            "100g açucar mascavo\n",
            "40g açucar demeara/cristal\n",
            "100g mel\n",
            "1 ovo\n",
            "1 colher de sopa de essência de baunilha\n",
            "\u001b[1n\u001b[94m\n",
            "O conteúdo do arquivo /content/Datasets//ArquivoAppend.txt é:\n",
            "\u001b[0m\n",
            "Ginger Bread\n",
            "\n",
            "INGREDIENTES:\n",
            "350g Farinha de trigo\n",
            "20g amido de milho\n",
            "0,5 colher de sopa Gengibre\n",
            "0,5 colher de chá Canela\n",
            "colher rasa de café de Cravo em pó\n",
            "colher rasa de café de Nós Moscada\n",
            "150g manteiga sem sal\n",
            "100g açucar mascavo\n",
            "40g açucar demeara/cristal\n",
            "100g mel\n",
            "1 ovo\n",
            "1 colher de sopa de essência de baunilha\n",
            "\n",
            "Olá pessoal\n",
            "--> Hoje é 06/12/2020,16:43:39\n",
            "\n",
            "Olá pessoal!--> Hoje é: 06/12/2020,16:43:39\n"
          ],
          "name": "stdout"
        }
      ]
    },
    {
      "cell_type": "markdown",
      "metadata": {
        "id": "luRuTZ3S4aqM"
      },
      "source": [
        "# Alteração de arquivo que não existe - append"
      ]
    },
    {
      "cell_type": "code",
      "metadata": {
        "colab": {
          "base_uri": "https://localhost:8080/"
        },
        "id": "D0PbH1nN4fm4",
        "outputId": "8c318982-d282-4734-9b64-5e3155d024e6"
      },
      "source": [
        "print(f'{color.BOLD}{color.GREEN}Append em um arquivo que já existe!\\n{color.END}')\n",
        "filename = datasetPath +'/ArquivoAppend2.txt'\n",
        "readFileContent(filename)\n",
        "appendFile(filename)\n",
        "readFileContent(filename)"
      ],
      "execution_count": 221,
      "outputs": [
        {
          "output_type": "stream",
          "text": [
            "\u001b[1n\u001b[92mAppend em um arquivo que já existe!\n",
            "\u001b[0m\n",
            "\u001b[1n\u001b[91m\n",
            "Erro ao tentar ler o arquivo! O arquivo /content/Datasets//ArquivoAppend2.txt não existe!\u001b[0m\n",
            "\u001b[1n\u001b[94m\n",
            "O conteúdo do arquivo /content/Datasets//ArquivoAppend2.txt é:\n",
            "\u001b[0m\n",
            "\n",
            "\n",
            "Olá pessoal\n",
            "--> Hoje é 06/12/2020,16:43:48\n",
            "\n",
            "Olá pessoal!--> Hoje é: 06/12/2020,16:43:48\n"
          ],
          "name": "stdout"
        }
      ]
    },
    {
      "cell_type": "markdown",
      "metadata": {
        "id": "n8-dXnL14wFX"
      },
      "source": [
        "#Escrita de txt - write"
      ]
    },
    {
      "cell_type": "code",
      "metadata": {
        "colab": {
          "base_uri": "https://localhost:8080/"
        },
        "id": "CQD-PWBF42WQ",
        "outputId": "36a1a035-72ea-4bba-868f-33e34cc38678"
      },
      "source": [
        "print(f'{color.BOLD}{color.PURPLE}Write em um arquivo que já existe!\\n{color.END}')\n",
        "filename = datasetPath +'/ArquivoWrite.txt'\n",
        "readFileContent(filename)\n",
        "writeFile(filename)\n",
        "readFileContent(filename)"
      ],
      "execution_count": 222,
      "outputs": [
        {
          "output_type": "stream",
          "text": [
            "\u001b[1n\u001b[95mWrite em um arquivo que já existe!\n",
            "\u001b[0m\n",
            "\u001b[1n\u001b[94m\n",
            "O conteúdo do arquivo /content/Datasets//ArquivoWrite.txt é:\n",
            "\u001b[0m\n",
            "Isso é o que está escrito no arquivo txt antes de executar o write\n",
            "\n",
            "Esse texto será apagado e será reescrito pelo o que foi definido no método\n",
            "\n",
            "ADEUS MUNDO CRUEL\n",
            "\u001b[1n\u001b[94m\n",
            "O conteúdo do arquivo /content/Datasets//ArquivoWrite.txt é:\n",
            "\u001b[0m\n",
            "Abri o arquivo /content/Datasets//ArquivoWrite.txt em modo de escrita(w)!\n",
            "--> Hoje é 06/12/2020,16:44:14\n"
          ],
          "name": "stdout"
        }
      ]
    },
    {
      "cell_type": "markdown",
      "metadata": {
        "id": "lzvTeNFK5jXo"
      },
      "source": [
        "# Escrita de txt que não existe - write"
      ]
    },
    {
      "cell_type": "code",
      "metadata": {
        "colab": {
          "base_uri": "https://localhost:8080/"
        },
        "id": "L7TvtkP95p2b",
        "outputId": "31845113-895b-4225-cd28-0560fb5ec587"
      },
      "source": [
        "print(f'{color.BOLD}{color.PURPLE}Write em um arquivo que não existe!\\n{color.END}')\n",
        "filename = datasetPath +'/ArquivoWrite2.txt'\n",
        "readFileContent(filename)\n",
        "writeFile(filename)\n",
        "readFileContent(filename)"
      ],
      "execution_count": 223,
      "outputs": [
        {
          "output_type": "stream",
          "text": [
            "\u001b[1n\u001b[95mWrite em um arquivo que não existe!\n",
            "\u001b[0m\n",
            "\u001b[1n\u001b[91m\n",
            "Erro ao tentar ler o arquivo! O arquivo /content/Datasets//ArquivoWrite2.txt não existe!\u001b[0m\n",
            "\u001b[1n\u001b[94m\n",
            "O conteúdo do arquivo /content/Datasets//ArquivoWrite2.txt é:\n",
            "\u001b[0m\n",
            "Abri o arquivo /content/Datasets//ArquivoWrite2.txt em modo de escrita(w)!\n",
            "--> Hoje é 06/12/2020,16:44:33\n"
          ],
          "name": "stdout"
        }
      ]
    },
    {
      "cell_type": "markdown",
      "metadata": {
        "id": "MfOCuVdH8bG3"
      },
      "source": [
        "# Lendo os Diretórios"
      ]
    },
    {
      "cell_type": "code",
      "metadata": {
        "colab": {
          "base_uri": "https://localhost:8080/"
        },
        "id": "PRJNo7UI8ftV",
        "outputId": "0d95340c-6f19-4fbe-be39-4e319d50af7e"
      },
      "source": [
        "working_directory = os.getcwd()\n",
        "print(f'O diretório de trabalho é: {working_directory}')\n",
        "\n",
        "filelist = os.listdir(datasetPath)\n",
        "print(f'{color.BOLD}\\nA lista de arquivos e/ou diretórios é: {color.END}')\n",
        "print(filelist)"
      ],
      "execution_count": 226,
      "outputs": [
        {
          "output_type": "stream",
          "text": [
            "O diretório de trabalho é: /content\n",
            "\u001b[1n\n",
            "A lista de arquivos e/ou diretórios é: \u001b[0m\n",
            "['ArquivoRead.txt', 'ArquivoAppend.txt', 'ArquivoWrite2.txt', '.ipynb_checkpoints', 'ArquivoAppend2.txt', 'ArquivoWrite.txt']\n"
          ],
          "name": "stdout"
        }
      ]
    },
    {
      "cell_type": "markdown",
      "metadata": {
        "id": "_ZatTCJA9JbY"
      },
      "source": [
        "# Lendo o conteúdo de cada arquivo no diretório"
      ]
    },
    {
      "cell_type": "code",
      "metadata": {
        "colab": {
          "base_uri": "https://localhost:8080/"
        },
        "id": "x7jMtVAF9PZa",
        "outputId": "b4834656-4555-41c8-b02c-1fe98b1bb05e"
      },
      "source": [
        "for filename in os.listdir(datasetPath):\n",
        "  if os.path.isfile(os.path.join(datasetPath, filename)):\n",
        "    fullfilename = datasetPath + filename\n",
        "    try:\n",
        "      print(f'{color.BOLD}\\nLendo o conteúdo do arquivo: {color.END}{fullfilename}')\n",
        "      fileobject=open(fullfilename, 'r',encoding='utf-8')\n",
        "      if fileobject.mode =='r':\n",
        "        filecontents = fileobject.read()\n",
        "        print(filecontents)\n",
        "        print('\\n------------\\n')\n",
        "      fileobject.close()\n",
        "    except FileNotFoundError:\n",
        "      print(f'{color.BOLD}{color.RED}\\nErro: Arquivo não existe!{color.END}')\n",
        "  else:\n",
        "    print(f'{color.BOLD}{color.BLUE}\\n{filename} não é um arquivo{color.END}')"
      ],
      "execution_count": 233,
      "outputs": [
        {
          "output_type": "stream",
          "text": [
            "\u001b[1n\n",
            "Lendo o conteúdo do arquivo: \u001b[0m/content/Datasets/ArquivoRead.txt\n",
            "Exemplo de coleta de dados de arquivo de texto\n",
            "\n",
            "Biscoito Natalino\n",
            "\n",
            "INGREDIENTES:\n",
            "200g amido de milho\n",
            "200g/meia lata leite condensado\n",
            "60g leite em pó ninho\n",
            "100g manteiga sem sal\n",
            "\n",
            "------------\n",
            "\n",
            "\u001b[1n\n",
            "Lendo o conteúdo do arquivo: \u001b[0m/content/Datasets/ArquivoAppend.txt\n",
            "Ginger Bread\n",
            "\n",
            "INGREDIENTES:\n",
            "350g Farinha de trigo\n",
            "20g amido de milho\n",
            "0,5 colher de sopa Gengibre\n",
            "0,5 colher de chá Canela\n",
            "colher rasa de café de Cravo em pó\n",
            "colher rasa de café de Nós Moscada\n",
            "150g manteiga sem sal\n",
            "100g açucar mascavo\n",
            "40g açucar demeara/cristal\n",
            "100g mel\n",
            "1 ovo\n",
            "1 colher de sopa de essência de baunilha\n",
            "\n",
            "Olá pessoal\n",
            "--> Hoje é 06/12/2020,16:43:39\n",
            "\n",
            "Olá pessoal!--> Hoje é: 06/12/2020,16:43:39\n",
            "\n",
            "------------\n",
            "\n",
            "\u001b[1n\n",
            "Lendo o conteúdo do arquivo: \u001b[0m/content/Datasets/ArquivoWrite2.txt\n",
            "Abri o arquivo /content/Datasets//ArquivoWrite2.txt em modo de escrita(w)!\n",
            "--> Hoje é 06/12/2020,16:44:33\n",
            "\n",
            "------------\n",
            "\n",
            "\u001b[1n\u001b[94m\n",
            ".ipynb_checkpoints não é um arquivo\u001b[0m\n",
            "\u001b[1n\n",
            "Lendo o conteúdo do arquivo: \u001b[0m/content/Datasets/ArquivoAppend2.txt\n",
            "\n",
            "\n",
            "Olá pessoal\n",
            "--> Hoje é 06/12/2020,16:43:48\n",
            "\n",
            "Olá pessoal!--> Hoje é: 06/12/2020,16:43:48\n",
            "\n",
            "------------\n",
            "\n",
            "\u001b[1n\n",
            "Lendo o conteúdo do arquivo: \u001b[0m/content/Datasets/ArquivoWrite.txt\n",
            "Abri o arquivo /content/Datasets//ArquivoWrite.txt em modo de escrita(w)!\n",
            "--> Hoje é 06/12/2020,16:44:14\n",
            "\n",
            "------------\n",
            "\n"
          ],
          "name": "stdout"
        }
      ]
    }
  ]
}