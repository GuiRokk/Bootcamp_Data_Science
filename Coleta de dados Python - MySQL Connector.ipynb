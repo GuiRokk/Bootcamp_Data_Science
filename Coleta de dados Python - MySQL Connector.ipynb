{
 "cells": [
  {
   "cell_type": "markdown",
   "metadata": {},
   "source": [
    "## Coleta de Dados MySQL em Python"
   ]
  },
  {
   "cell_type": "markdown",
   "metadata": {},
   "source": [
    "#### Importanto os pacotes"
   ]
  },
  {
   "cell_type": "code",
   "execution_count": 4,
   "metadata": {},
   "outputs": [
    {
     "name": "stdout",
     "output_type": "stream",
     "text": [
      "Requirement already satisfied: mysql-connector-python in d:\\users\\guilherme\\anaconda3\\envs\\r\\lib\\site-packages (8.0.22)\n",
      "Requirement already satisfied: protobuf>=3.0.0 in d:\\users\\guilherme\\anaconda3\\envs\\r\\lib\\site-packages (from mysql-connector-python) (3.14.0)\n",
      "Requirement already satisfied: six>=1.9 in d:\\users\\guilherme\\anaconda3\\envs\\r\\lib\\site-packages (from protobuf>=3.0.0->mysql-connector-python) (1.15.0)\n"
     ]
    }
   ],
   "source": [
    "!pip install mysql-connector-python\n",
    "import mysql.connector"
   ]
  },
  {
   "cell_type": "markdown",
   "metadata": {},
   "source": [
    "#### Criando a conexão do MySQL Server com um cursor"
   ]
  },
  {
   "cell_type": "code",
   "execution_count": 5,
   "metadata": {},
   "outputs": [
    {
     "name": "stdout",
     "output_type": "stream",
     "text": [
      "<mysql.connector.connection.MySQLConnection object at 0x000001760FB99F70>\n",
      "('bootcamp',)\n",
      "('information_schema',)\n",
      "('mysql',)\n",
      "('performance_schema',)\n",
      "('sakila',)\n",
      "('sys',)\n",
      "('world',)\n"
     ]
    }
   ],
   "source": [
    "mydb = mysql.connector.connect(\n",
    "host = 'localhost',\n",
    "user='root',\n",
    "password = 'igti')\n",
    "\n",
    "print(mydb)\n",
    "\n",
    "mycursor = mydb.cursor()\n",
    "mycursor.execute(\"show databases\")\n",
    "\n",
    "\n",
    "for db in mycursor:\n",
    "    print(db)"
   ]
  },
  {
   "cell_type": "markdown",
   "metadata": {},
   "source": [
    "#### Criando a conexão ao MySQL, mas agora selecionando o DB 'bootcamp'"
   ]
  },
  {
   "cell_type": "code",
   "execution_count": 6,
   "metadata": {},
   "outputs": [],
   "source": [
    "mydb = mysql.connector.connect(\n",
    "host = 'localhost',\n",
    "user='root',\n",
    "password = 'igti',\n",
    "database = 'bootcamp')\n",
    "\n",
    "mycursor = mydb.cursor()"
   ]
  },
  {
   "cell_type": "markdown",
   "metadata": {},
   "source": [
    "#### Lendo as tabelas desse db"
   ]
  },
  {
   "cell_type": "code",
   "execution_count": 94,
   "metadata": {},
   "outputs": [
    {
     "name": "stdout",
     "output_type": "stream",
     "text": [
      "('caracteristicageralimovel',)\n",
      "('caracteristicasgerais',)\n",
      "('cidade',)\n",
      "('estado',)\n",
      "('imovel',)\n",
      "('tipounidade',)\n"
     ]
    }
   ],
   "source": [
    "mycursor.execute(\"show tables\")\n",
    "\n",
    "for db in mycursor:\n",
    "    print(db)"
   ]
  },
  {
   "cell_type": "markdown",
   "metadata": {},
   "source": [
    "#### Criando uma tabela nova"
   ]
  },
  {
   "cell_type": "code",
   "execution_count": 53,
   "metadata": {},
   "outputs": [],
   "source": [
    "mycursor.execute(\"CREATE TABLE caracteristicageralImovel(\\\n",
    "idCaracteristicaImovel INT NOT NULL AUTO_INCREMENT PRIMARY KEY,\\\n",
    "idCaracteristicasGerais INT NOT NULL,\\\n",
    "idImovel INT NOT NULL,\\\n",
    "temCaracteristica TINYINT DEFAULT NULL)\")"
   ]
  },
  {
   "cell_type": "markdown",
   "metadata": {},
   "source": [
    "#### Verificando a adição da nova tabela"
   ]
  },
  {
   "cell_type": "code",
   "execution_count": 72,
   "metadata": {},
   "outputs": [
    {
     "name": "stdout",
     "output_type": "stream",
     "text": [
      "('caracteristicageralimovel',)\n",
      "('caracteristicasgerais',)\n",
      "('cidade',)\n",
      "('estado',)\n",
      "('imovel',)\n",
      "('tipounidade',)\n"
     ]
    }
   ],
   "source": [
    "mycursor.execute(\"show tables\")\n",
    "\n",
    "for db in mycursor:\n",
    "    print(db)"
   ]
  },
  {
   "cell_type": "markdown",
   "metadata": {},
   "source": [
    "#### Inserindo dado na tabela - execute()"
   ]
  },
  {
   "cell_type": "code",
   "execution_count": 55,
   "metadata": {},
   "outputs": [
    {
     "name": "stdout",
     "output_type": "stream",
     "text": [
      "1 registro(s) inserido(s)\n"
     ]
    }
   ],
   "source": [
    "query = \"insert into caracteristicasgerais values(%s, %s)\"\n",
    "values = (1, \"Portaria 24 horas\")\n",
    "mycursor.execute(query, values)\n",
    "\n",
    "mydb.commit()\n",
    "print(f'{mycursor.rowcount} registro(s) inserido(s)')"
   ]
  },
  {
   "cell_type": "markdown",
   "metadata": {},
   "source": [
    "#### Inserindo varios dados na tabela - executemany()"
   ]
  },
  {
   "cell_type": "code",
   "execution_count": 59,
   "metadata": {},
   "outputs": [
    {
     "name": "stdout",
     "output_type": "stream",
     "text": [
      "2 registro(s) inserido(s)\n"
     ]
    }
   ],
   "source": [
    "query = \"insert into caracteristicasgerais values(%s, %s)\"\n",
    "values = [(4, \"Elevador\"),(5, \"Piscina\")]\n",
    "mycursor.executemany(query, values)\n",
    "\n",
    "mydb.commit()\n",
    "print(f'{mycursor.rowcount} registro(s) inserido(s)')"
   ]
  },
  {
   "cell_type": "markdown",
   "metadata": {},
   "source": [
    "#### Percorrendo pelas linhas da tabela - fetchall()"
   ]
  },
  {
   "cell_type": "code",
   "execution_count": 86,
   "metadata": {},
   "outputs": [
    {
     "name": "stdout",
     "output_type": "stream",
     "text": [
      "(1, 'Portaria 24 horas')\n",
      "(2, 'Faxina')\n",
      "(3, 'Cerca Elétrica')\n",
      "(4, 'Elevador')\n",
      "(5, 'Piscina')\n"
     ]
    }
   ],
   "source": [
    "mycursor.execute(\"select * from caracteristicasgerais\")\n",
    "myresult = mycursor.fetchall()\n",
    "\n",
    "for mydata in myresult:\n",
    "    print(mydata)"
   ]
  },
  {
   "cell_type": "markdown",
   "metadata": {},
   "source": [
    "#### Percorrendo pelas linhas da tabela, apenas um valor- fetchone()"
   ]
  },
  {
   "cell_type": "code",
   "execution_count": 87,
   "metadata": {},
   "outputs": [
    {
     "name": "stdout",
     "output_type": "stream",
     "text": [
      "(1, 'Portaria 24 horas')\n"
     ]
    }
   ],
   "source": [
    "mycursor.execute(\"select * from caracteristicasgerais\")\n",
    "myresult = mycursor.fetchone()\n",
    "print(myresult)"
   ]
  },
  {
   "cell_type": "markdown",
   "metadata": {},
   "source": [
    "#### Inserindo dados à partir de CSV"
   ]
  },
  {
   "cell_type": "code",
   "execution_count": 88,
   "metadata": {},
   "outputs": [],
   "source": [
    "import csv"
   ]
  },
  {
   "cell_type": "code",
   "execution_count": 99,
   "metadata": {},
   "outputs": [],
   "source": [
    "filename = \"D:/Guilherme/Documents/BOOTCAMP\\Módulo 2 -  Coleta e Obtenção de Dados/Trabalho/Dados/arquivoscomplementaresTrabalhoPratico/cidades.csv\"\n",
    "\n",
    "with open(filename,'r') as incsvfile:\n",
    "    reader = csv.reader(incsvfile,delimiter = ',')\n",
    "    next(reader, None) #pula o cabeçalho\n",
    "    for line in reader:\n",
    "        mycursor.execute(\"insert into cidade values (%s,%s,%s,%s)\",line)\n",
    "mydb.commit()\n",
    "incsvfile.close()"
   ]
  },
  {
   "cell_type": "markdown",
   "metadata": {},
   "source": [
    "#### Conferindo o número de registros inseridos na tabela"
   ]
  },
  {
   "cell_type": "code",
   "execution_count": 100,
   "metadata": {},
   "outputs": [
    {
     "name": "stdout",
     "output_type": "stream",
     "text": [
      "(5570,)\n"
     ]
    }
   ],
   "source": [
    "mycursor.execute(\"select count(*) from cidade\")\n",
    "myresult = mycursor.fetchone()\n",
    "print(myresult)"
   ]
  },
  {
   "cell_type": "markdown",
   "metadata": {},
   "source": [
    "#### Fechando a conexão ao Banco de Dados"
   ]
  },
  {
   "cell_type": "code",
   "execution_count": 7,
   "metadata": {},
   "outputs": [],
   "source": [
    "mydb.close()"
   ]
  }
 ],
 "metadata": {
  "kernelspec": {
   "display_name": "Python 3",
   "language": "python",
   "name": "python3"
  },
  "language_info": {
   "codemirror_mode": {
    "name": "ipython",
    "version": 3
   },
   "file_extension": ".py",
   "mimetype": "text/x-python",
   "name": "python",
   "nbconvert_exporter": "python",
   "pygments_lexer": "ipython3",
   "version": "3.8.5"
  }
 },
 "nbformat": 4,
 "nbformat_minor": 4
}
