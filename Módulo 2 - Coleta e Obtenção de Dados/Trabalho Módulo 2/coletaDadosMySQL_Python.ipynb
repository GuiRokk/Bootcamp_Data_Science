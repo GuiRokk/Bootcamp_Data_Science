{
 "cells": [
  {
   "cell_type": "markdown",
   "metadata": {},
   "source": [
    "# Coleta de Dados no MySQL utilizando o Python"
   ]
  },
  {
   "cell_type": "markdown",
   "metadata": {},
   "source": [
    "#### Para mais detalhes sobre o pacote mysql.connector consulte:\n",
    "* https://www.w3schools.com/python/python_mysql_getstarted.asp"
   ]
  },
  {
   "cell_type": "markdown",
   "metadata": {},
   "source": [
    "### OBSERVAÇÃO\n",
    "\n",
    "#### Antes de executar este notebook pela primeira vez, instale o pacote mysql.connector\n",
    "\n",
    "Para instalar o pacote, utilizando o prompt do Anaconda, execute o comando abaixo:\n",
    "\n",
    "#### *conda install -c anaconda mysql-connector-python*"
   ]
  },
  {
   "cell_type": "code",
   "execution_count": 109,
   "metadata": {},
   "outputs": [],
   "source": [
    "import mysql.connector"
   ]
  },
  {
   "cell_type": "markdown",
   "metadata": {},
   "source": [
    "#### Conectar ao MySQL Server sem selecionar um banco de dados"
   ]
  },
  {
   "cell_type": "code",
   "execution_count": 118,
   "metadata": {},
   "outputs": [
    {
     "name": "stdout",
     "output_type": "stream",
     "text": [
      "<mysql.connector.connection.MySQLConnection object at 0x000002CB59EFD490>\n"
     ]
    }
   ],
   "source": [
    "mydb = mysql.connector.connect(\n",
    "    host='localhost',\n",
    "    user='root',\n",
    "    password='igti'\n",
    ")\n",
    "\n",
    "print(mydb)\n",
    "\n",
    "mycursor = mydb.cursor()\n",
    "\n",
    "#Para criar um banco de dados use o comando abaixo\n",
    "#mycursor.execute(\"CREATE DATABASE mydatabase\")\n"
   ]
  },
  {
   "cell_type": "code",
   "execution_count": 119,
   "metadata": {},
   "outputs": [
    {
     "name": "stdout",
     "output_type": "stream",
     "text": [
      "('bootcamp',)\n",
      "('information_schema',)\n",
      "('mysql',)\n",
      "('performance_schema',)\n"
     ]
    }
   ],
   "source": [
    "#Retorna todos os esquemas criados no seu servidor de Banco de Dados\n",
    "mycursor.execute(\"SHOW DATABASES\") \n",
    "\n",
    "for db in mycursor:\n",
    "    print(db)\n"
   ]
  },
  {
   "cell_type": "markdown",
   "metadata": {},
   "source": [
    "#### Conectar ao MySQL Server selecionand um banco de dados específico"
   ]
  },
  {
   "cell_type": "code",
   "execution_count": 120,
   "metadata": {},
   "outputs": [
    {
     "name": "stdout",
     "output_type": "stream",
     "text": [
      "<mysql.connector.connection.MySQLConnection object at 0x000002CB59EFD700>\n"
     ]
    }
   ],
   "source": [
    "\n",
    "mydb = mysql.connector.connect(\n",
    "    host='localhost',\n",
    "    user='root',\n",
    "    password='igti',\n",
    "    database='bootcamp'\n",
    ")\n",
    "\n",
    "print(mydb)\n",
    "\n",
    "mycursor = mydb.cursor()"
   ]
  },
  {
   "cell_type": "code",
   "execution_count": 121,
   "metadata": {},
   "outputs": [
    {
     "name": "stdout",
     "output_type": "stream",
     "text": [
      "('caracteristicageralimovel',)\n",
      "('caracteristicasgerais',)\n",
      "('cidade',)\n",
      "('estado',)\n",
      "('imovel',)\n",
      "('tipounidade',)\n"
     ]
    }
   ],
   "source": [
    "#Retorna todas as tabelas criados no seu esquema de Banco de Dados \n",
    "mycursor.execute(\"SHOW TABLES\")\n",
    "\n",
    "for db in mycursor:\n",
    "    print(db)"
   ]
  },
  {
   "cell_type": "code",
   "execution_count": 6,
   "metadata": {},
   "outputs": [
    {
     "name": "stdout",
     "output_type": "stream",
     "text": [
      "1 registro(s) inserido(s).\n"
     ]
    }
   ],
   "source": [
    "# Inserir dados em uma tabela\n",
    "\n",
    "query = \"INSERT INTO caracteristicasgerais (idcaracteristicasGerais, dsccaracteristicasGerais) VALUES (%s, %s)\"\n",
    "values = (1, \"Portaria 24 horas\")\n",
    "\n",
    "mycursor.execute(query, values)\n",
    "\n",
    "#Fazer a confirmação da inserção\n",
    "mydb.commit()\n",
    "\n",
    "print(mycursor.rowcount, \"registro(s) inserido(s).\")"
   ]
  },
  {
   "cell_type": "code",
   "execution_count": 7,
   "metadata": {},
   "outputs": [
    {
     "name": "stdout",
     "output_type": "stream",
     "text": [
      "2 registro(s) inserido(s).\n"
     ]
    }
   ],
   "source": [
    "#Inserindo multiplos valores\n",
    "values = [(2, \"Elevador\"),(3,\"Piscina\")]\n",
    "\n",
    "mycursor.executemany(query, values)\n",
    "\n",
    "mydb.commit()\n",
    "\n",
    "print(mycursor.rowcount, \"registro(s) inserido(s).\")"
   ]
  },
  {
   "cell_type": "code",
   "execution_count": 117,
   "metadata": {},
   "outputs": [
    {
     "name": "stdout",
     "output_type": "stream",
     "text": [
      "(1, 'Portaria 24 horas')\n",
      "(2, 'Elevador')\n",
      "(3, 'Piscina')\n",
      "(4, 'Salão de festas')\n",
      "(5, 'Área gourmet')\n",
      "(6, 'Água individual')\n",
      "(7, 'Gás canalizado')\n",
      "(8, 'Aquecimento solar')\n",
      "(9, 'Vaga coberta')\n",
      "(10, 'Vaga livre')\n",
      "(11, 'Armários na cozinha')\n",
      "(12, 'Closet')\n",
      "(13, 'Armários no quarto')\n"
     ]
    }
   ],
   "source": [
    "#Consultar a tabela\n",
    "mycursor.execute(\"SELECT * FROM caracteristicasgerais\")\n",
    "\n",
    "myresult = mycursor.fetchall() #todos os registros\n",
    "\n",
    "for mydata in myresult:\n",
    "    print(mydata)"
   ]
  },
  {
   "cell_type": "code",
   "execution_count": 9,
   "metadata": {},
   "outputs": [
    {
     "name": "stdout",
     "output_type": "stream",
     "text": [
      "(1, 'Portaria 24 horas')\n"
     ]
    }
   ],
   "source": [
    "mycursor.execute(\"SELECT idcaracteristicasGerais, dsccaracteristicasGerais FROM caracteristicasgerais\")\n",
    "\n",
    "myresult = mycursor.fetchone() #apenas primeiro registro\n",
    "\n",
    "print(myresult)\n"
   ]
  },
  {
   "cell_type": "markdown",
   "metadata": {},
   "source": [
    "##### Importar pacote csv"
   ]
  },
  {
   "cell_type": "code",
   "execution_count": 10,
   "metadata": {},
   "outputs": [],
   "source": [
    "import csv"
   ]
  },
  {
   "cell_type": "code",
   "execution_count": 14,
   "metadata": {},
   "outputs": [],
   "source": [
    "#Leitura de arquivo sem utilizar biblioteca Pandas\n",
    "# Conferir se seu arquivo foi salvo no caminho abaixo\n",
    "\n",
    "filename = 'D:/Guilherme/Documents/BOOTCAMP/Módulo 2 - Coleta e Obtenção de Dados/Trabalho 2/Dados/Arquivos de Carga/cidades.csv'\n",
    "\n",
    "#Abrir arquivo e inserir cada linha do arquivo na tabela cidade\n",
    "\n",
    "with open(filename, 'r') as incsvfile:\n",
    "    reader = csv.reader(incsvfile, delimiter=',')\n",
    "    next(reader, None)  # skip the headers\n",
    "    for line in reader:       \n",
    "        mycursor.execute (\"INSERT INTO cidade (CodigoCompletoIBGE, CodigoCidadeIBGE,NomeCidade, CodEstadoIBGE)\\\n",
    "                  VALUES (%s, %s, %s, %s)\",line)        \n",
    "mydb.commit()\n",
    "\n",
    "#db.close()\n",
    "incsvfile.close() #Fechar arquivo"
   ]
  },
  {
   "cell_type": "code",
   "execution_count": 122,
   "metadata": {},
   "outputs": [],
   "source": [
    "#Leitura de arquivo sem utilizar biblioteca Pandas\n",
    "# Conferir se seu arquivo foi salvo no caminho abaixo\n",
    "\n",
    "filename = 'D:/Guilherme/Documents/BOOTCAMP/Módulo 2 - Coleta e Obtenção de Dados/Trabalho 2/Dados/Arquivos de Carga/imoveis.csv'\n",
    "\n",
    "#Abrir arquivo e inserir cada linha do arquivo na tabela cidade\n",
    "\n",
    "with open(filename, 'r') as incsvfile:\n",
    "    reader = csv.reader(incsvfile, delimiter=',')\n",
    "    next(reader, None)  # skip the headers\n",
    "    for line in reader:       \n",
    "        mycursor.execute (\"INSERT INTO imovel VALUES (%s,%s,%s,%s,%s,%s,%s,%s,%s,%s,%s,%s,%s)\",line)        \n",
    "mydb.commit()\n",
    "\n",
    "#db.close()\n",
    "incsvfile.close() #Fechar arquivo"
   ]
  },
  {
   "cell_type": "markdown",
   "metadata": {},
   "source": [
    "**OBSERVAÇÃO:**\n",
    "\n",
    " Caso o erro abaixo ocorra, em qualquer momento deste notebook, significa que sua conexão com o banco de dados foi fechada, devido ao tempo de *timeout*. Basta executar a conexão novamente e executar os comando em seguida."
   ]
  },
  {
   "cell_type": "code",
   "execution_count": 15,
   "metadata": {},
   "outputs": [
    {
     "name": "stdout",
     "output_type": "stream",
     "text": [
      "(5570,)\n"
     ]
    }
   ],
   "source": [
    "#Consutar a tabela cidade listando a quantidade de registros existentes nela. Seu resultado deve imprimir 5570.\n",
    "\n",
    "mycursor.execute(\"SELECT count(*) FROM cidade\")\n",
    "\n",
    "myresult = mycursor.fetchone()\n",
    "\n",
    "print(myresult)"
   ]
  },
  {
   "cell_type": "code",
   "execution_count": null,
   "metadata": {},
   "outputs": [],
   "source": [
    "mydb.close() #Fechar o banco de dados"
   ]
  },
  {
   "cell_type": "markdown",
   "metadata": {},
   "source": [
    "## A partir daqui você deve alterar seu notebook conforme orientações da atividade 10 do enunciado do trabalho prático."
   ]
  },
  {
   "cell_type": "markdown",
   "metadata": {},
   "source": [
    "Nas células abaixo foram deixadas algumas dicas para você seguir."
   ]
  },
  {
   "cell_type": "markdown",
   "metadata": {},
   "source": [
    "##### 1º) Importar as bibliotecas mysql.connector e csv"
   ]
  },
  {
   "cell_type": "code",
   "execution_count": null,
   "metadata": {},
   "outputs": [],
   "source": [
    "#Se você já importou anteriormente e não resetou seu kernel, não será necessário importar"
   ]
  },
  {
   "cell_type": "markdown",
   "metadata": {},
   "source": [
    "##### 2º) Fazer a conexão com seu banco de dados"
   ]
  },
  {
   "cell_type": "code",
   "execution_count": 107,
   "metadata": {},
   "outputs": [
    {
     "name": "stdout",
     "output_type": "stream",
     "text": [
      "<mysql.connector.connection.MySQLConnection object at 0x000002CB59F1C0D0>\n"
     ]
    }
   ],
   "source": [
    "mydb = mysql.connector.connect(\n",
    "    host='localhost',\n",
    "    user='root',\n",
    "    password='igti',\n",
    "    database='bootcamp'\n",
    ")\n",
    "\n",
    "print(mydb)\n",
    "\n",
    "mycursor = mydb.cursor()"
   ]
  },
  {
   "cell_type": "markdown",
   "metadata": {},
   "source": [
    "##### 3º) Abrir o arquivo 'caracteristicaImovel.txt' e inserir cada linha lida na tabela 'caracteristicageralimovel'"
   ]
  },
  {
   "cell_type": "code",
   "execution_count": 123,
   "metadata": {},
   "outputs": [],
   "source": [
    "filename = 'D:/Guilherme/Documents/BOOTCAMP/Módulo 2 - Coleta e Obtenção de Dados/Trabalho 2/Dados/Arquivos de Carga/caracteristicageralimovel.txt'\n",
    "\n",
    "file=open(filename,'r',encoding='utf-8')\n",
    "file_content = file.readlines()\n",
    "file.close()\n",
    "query = \"INSERT INTO caracteristicageralimovel(idcaracteristicasGerais,idImovel,temCaracteristica) VALUES (%s, %s, %s)\"\n",
    "dados = [tuple(map(int,line.split(','))) for line in file_content]\n",
    "dados\n",
    "\n",
    "mycursor.executemany(query,dados)\n"
   ]
  },
  {
   "cell_type": "markdown",
   "metadata": {},
   "source": [
    "##### 4º) Fazer a confirmação da inserção (commit)"
   ]
  },
  {
   "cell_type": "code",
   "execution_count": null,
   "metadata": {},
   "outputs": [],
   "source": [
    "mydb.commit()"
   ]
  },
  {
   "cell_type": "markdown",
   "metadata": {},
   "source": [
    "##### 5º) Conferir se os dados foram incluídos na tabela "
   ]
  },
  {
   "cell_type": "code",
   "execution_count": 124,
   "metadata": {},
   "outputs": [
    {
     "name": "stdout",
     "output_type": "stream",
     "text": [
      "(104,)\n"
     ]
    }
   ],
   "source": [
    "mycursor.execute(\"SELECT count(*) FROM caracteristicageralimovel\")\n",
    "\n",
    "myresult = mycursor.fetchone()\n",
    "\n",
    "print(myresult)"
   ]
  },
  {
   "cell_type": "markdown",
   "metadata": {},
   "source": [
    "##### 6º) Fechar arquivo e banco de dados"
   ]
  },
  {
   "cell_type": "code",
   "execution_count": 125,
   "metadata": {},
   "outputs": [],
   "source": [
    "mydb.close()"
   ]
  }
 ],
 "metadata": {
  "kernelspec": {
   "display_name": "Python 3",
   "language": "python",
   "name": "python3"
  },
  "language_info": {
   "codemirror_mode": {
    "name": "ipython",
    "version": 3
   },
   "file_extension": ".py",
   "mimetype": "text/x-python",
   "name": "python",
   "nbconvert_exporter": "python",
   "pygments_lexer": "ipython3",
   "version": "3.8.5"
  }
 },
 "nbformat": 4,
 "nbformat_minor": 4
}
