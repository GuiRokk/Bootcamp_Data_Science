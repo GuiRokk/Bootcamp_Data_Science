{
 "cells": [
  {
   "cell_type": "markdown",
   "metadata": {},
   "source": [
    "## Coleta de Dados MySQL em R"
   ]
  },
  {
   "cell_type": "markdown",
   "metadata": {},
   "source": [
    "#### Importando o pacote RMariaDB"
   ]
  },
  {
   "cell_type": "code",
   "execution_count": 78,
   "metadata": {},
   "outputs": [],
   "source": [
    "if(!\"RMariaDB\" %in% (.packages())){require(RMariaDB)}"
   ]
  },
  {
   "cell_type": "markdown",
   "metadata": {},
   "source": [
    "#### Conectando ao SGBD MySQL --> Banco de Dados do Bootcamp"
   ]
  },
  {
   "cell_type": "code",
   "execution_count": 79,
   "metadata": {},
   "outputs": [],
   "source": [
    "con <- dbConnect(MariaDB(), user = \"root\", password = \"igti\",\n",
    "                 dbname =\"bootcamp\", host = \"localhost\",serverTimezone='UTC')"
   ]
  },
  {
   "cell_type": "markdown",
   "metadata": {},
   "source": [
    "#### Listando todas as tabelas no DB"
   ]
  },
  {
   "cell_type": "code",
   "execution_count": 80,
   "metadata": {},
   "outputs": [
    {
     "data": {
      "text/html": [
       "<ol class=list-inline>\n",
       "\t<li>'caracteristicageralimovel'</li>\n",
       "\t<li>'caracteristicasgerais'</li>\n",
       "\t<li>'cidade'</li>\n",
       "\t<li>'estado'</li>\n",
       "\t<li>'imovel'</li>\n",
       "\t<li>'tipounidade'</li>\n",
       "</ol>\n"
      ],
      "text/latex": [
       "\\begin{enumerate*}\n",
       "\\item 'caracteristicageralimovel'\n",
       "\\item 'caracteristicasgerais'\n",
       "\\item 'cidade'\n",
       "\\item 'estado'\n",
       "\\item 'imovel'\n",
       "\\item 'tipounidade'\n",
       "\\end{enumerate*}\n"
      ],
      "text/markdown": [
       "1. 'caracteristicageralimovel'\n",
       "2. 'caracteristicasgerais'\n",
       "3. 'cidade'\n",
       "4. 'estado'\n",
       "5. 'imovel'\n",
       "6. 'tipounidade'\n",
       "\n",
       "\n"
      ],
      "text/plain": [
       "[1] \"caracteristicageralimovel\" \"caracteristicasgerais\"    \n",
       "[3] \"cidade\"                    \"estado\"                   \n",
       "[5] \"imovel\"                    \"tipounidade\"              "
      ]
     },
     "metadata": {},
     "output_type": "display_data"
    }
   ],
   "source": [
    "tables <-dbListTables(con)\n",
    "tables"
   ]
  },
  {
   "cell_type": "markdown",
   "metadata": {},
   "source": [
    "#### Lendo os dados de uma tabela"
   ]
  },
  {
   "cell_type": "code",
   "execution_count": 81,
   "metadata": {},
   "outputs": [
    {
     "data": {
      "text/html": [
       "<table>\n",
       "<thead><tr><th scope=col>CodEstadoIBGE</th><th scope=col>NomeEstado</th><th scope=col>SiglaEstado</th><th scope=col>Regiao</th></tr></thead>\n",
       "<tbody>\n",
       "\t<tr><td>1        </td><td>São Paulo</td><td>SP       </td><td>Sudeste  </td></tr>\n",
       "</tbody>\n",
       "</table>\n"
      ],
      "text/latex": [
       "\\begin{tabular}{r|llll}\n",
       " CodEstadoIBGE & NomeEstado & SiglaEstado & Regiao\\\\\n",
       "\\hline\n",
       "\t 1         & São Paulo & SP        & Sudeste  \\\\\n",
       "\\end{tabular}\n"
      ],
      "text/markdown": [
       "\n",
       "| CodEstadoIBGE | NomeEstado | SiglaEstado | Regiao |\n",
       "|---|---|---|---|\n",
       "| 1         | São Paulo | SP        | Sudeste   |\n",
       "\n"
      ],
      "text/plain": [
       "  CodEstadoIBGE NomeEstado SiglaEstado Regiao \n",
       "1 1             São Paulo  SP          Sudeste"
      ]
     },
     "metadata": {},
     "output_type": "display_data"
    }
   ],
   "source": [
    "tabledata <- dbReadTable(con, \"estado\")\n",
    "tabledata"
   ]
  },
  {
   "cell_type": "markdown",
   "metadata": {},
   "source": [
    "#### Executando comandos SQL"
   ]
  },
  {
   "cell_type": "code",
   "execution_count": 82,
   "metadata": {},
   "outputs": [
    {
     "data": {
      "text/plain": [
       "<MariaDBResult>\n",
       "  SQL  insert into estado values (2,'Amazonas','AM','Norte')\n",
       "  ROWS Fetched: 0 [complete]\n",
       "       Changed: 1"
      ]
     },
     "metadata": {},
     "output_type": "display_data"
    },
    {
     "data": {
      "text/plain": [
       "<MariaDBResult>\n",
       "  SQL  insert into estado values (3,'Bahia','BA','Nordeste')\n",
       "  ROWS Fetched: 0 [complete]\n",
       "       Changed: 1"
      ]
     },
     "metadata": {},
     "output_type": "display_data"
    }
   ],
   "source": [
    "query1 <- \"insert into estado values (2,'Amazonas','AM','Norte')\"\n",
    "query2 <- \"insert into estado values (3,'Bahia','BA','Nordeste')\"\n",
    "\n",
    "results <- dbSendQuery(con,query1)\n",
    "results\n",
    "dbClearResult(results)\n",
    "\n",
    "results <-dbSendQuery(con, query2)\n",
    "results\n",
    "dbClearResult(results)"
   ]
  },
  {
   "cell_type": "markdown",
   "metadata": {},
   "source": [
    "#### Mostrando os dados atualizados"
   ]
  },
  {
   "cell_type": "code",
   "execution_count": 84,
   "metadata": {},
   "outputs": [
    {
     "data": {
      "text/html": [
       "<table>\n",
       "<thead><tr><th scope=col>CodEstadoIBGE</th><th scope=col>NomeEstado</th><th scope=col>SiglaEstado</th><th scope=col>Regiao</th></tr></thead>\n",
       "<tbody>\n",
       "\t<tr><td>1        </td><td>São Paulo</td><td>SP       </td><td>Sudeste  </td></tr>\n",
       "\t<tr><td>2        </td><td>Amazonas </td><td>AM       </td><td>Norte    </td></tr>\n",
       "\t<tr><td>3        </td><td>Bahia    </td><td>BA       </td><td>Nordeste </td></tr>\n",
       "</tbody>\n",
       "</table>\n"
      ],
      "text/latex": [
       "\\begin{tabular}{r|llll}\n",
       " CodEstadoIBGE & NomeEstado & SiglaEstado & Regiao\\\\\n",
       "\\hline\n",
       "\t 1         & São Paulo & SP        & Sudeste  \\\\\n",
       "\t 2         & Amazonas  & AM        & Norte    \\\\\n",
       "\t 3         & Bahia     & BA        & Nordeste \\\\\n",
       "\\end{tabular}\n"
      ],
      "text/markdown": [
       "\n",
       "| CodEstadoIBGE | NomeEstado | SiglaEstado | Regiao |\n",
       "|---|---|---|---|\n",
       "| 1         | São Paulo | SP        | Sudeste   |\n",
       "| 2         | Amazonas  | AM        | Norte     |\n",
       "| 3         | Bahia     | BA        | Nordeste  |\n",
       "\n"
      ],
      "text/plain": [
       "  CodEstadoIBGE NomeEstado SiglaEstado Regiao  \n",
       "1 1             São Paulo  SP          Sudeste \n",
       "2 2             Amazonas   AM          Norte   \n",
       "3 3             Bahia      BA          Nordeste"
      ]
     },
     "metadata": {},
     "output_type": "display_data"
    }
   ],
   "source": [
    "td <- dbReadTable(con, \"estado\")\n",
    "td"
   ]
  }
 ],
 "metadata": {
  "kernelspec": {
   "display_name": "R",
   "language": "R",
   "name": "ir"
  },
  "language_info": {
   "codemirror_mode": "r",
   "file_extension": ".r",
   "mimetype": "text/x-r-source",
   "name": "R",
   "pygments_lexer": "r",
   "version": "3.6.1"
  }
 },
 "nbformat": 4,
 "nbformat_minor": 4
}
