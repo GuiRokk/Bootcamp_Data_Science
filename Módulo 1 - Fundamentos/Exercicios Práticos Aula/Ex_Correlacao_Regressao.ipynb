{
  "nbformat": 4,
  "nbformat_minor": 0,
  "metadata": {
    "colab": {
      "name": "Ex_Correlacao_Regressao.ipynb",
      "provenance": [],
      "authorship_tag": "ABX9TyMCY3zT/9aRLNL1AB6Vc/9I",
      "include_colab_link": true
    },
    "kernelspec": {
      "name": "python3",
      "display_name": "Python 3"
    }
  },
  "cells": [
    {
      "cell_type": "markdown",
      "metadata": {
        "id": "view-in-github",
        "colab_type": "text"
      },
      "source": [
        "<a href=\"https://colab.research.google.com/github/GuiRokk/Bootcamp_Data_Science/blob/main/Ex_Correlacao_Regressao.ipynb\" target=\"_parent\"><img src=\"https://colab.research.google.com/assets/colab-badge.svg\" alt=\"Open In Colab\"/></a>"
      ]
    },
    {
      "cell_type": "markdown",
      "metadata": {
        "id": "cdsiu4rvIHTY"
      },
      "source": [
        "# Cálculo de CORRELAÇÃO E REGRESSÃO"
      ]
    },
    {
      "cell_type": "markdown",
      "metadata": {
        "id": "PWAcTloMFk2w"
      },
      "source": [
        "Importando as bibliotecas"
      ]
    },
    {
      "cell_type": "code",
      "metadata": {
        "id": "hRc925yrFJUJ"
      },
      "source": [
        "import numpy as np\n",
        "from sklearn import datasets, linear_model\n",
        "import matplotlib.pyplot as plt\n",
        "from sklearn.metrics import mean_squared_error, r2_score"
      ],
      "execution_count": 7,
      "outputs": []
    },
    {
      "cell_type": "markdown",
      "metadata": {
        "id": "DalMy5a6Fjy2"
      },
      "source": [
        "Inserindo o dataset"
      ]
    },
    {
      "cell_type": "code",
      "metadata": {
        "colab": {
          "base_uri": "https://localhost:8080/",
          "height": 283
        },
        "id": "gluVITgFFu99",
        "outputId": "99118b0f-3c8b-4f01-92b3-5d1edd8b2161"
      },
      "source": [
        "Receita = np.array([2,15,25,35,45,55,65,76,80,85,32,62,2,12,25,35,45,55,65,75,80,85,32,62])\n",
        "Preco = np.array([10,20,14,32,22,38,41,52,55,61,21,44,10,20,14,32,22,38,41,52,55,61,21,44])\n",
        "\n",
        "plt.scatter(Receita, Preco);\n",
        "plt.show"
      ],
      "execution_count": 8,
      "outputs": [
        {
          "output_type": "execute_result",
          "data": {
            "text/plain": [
              "<function matplotlib.pyplot.show>"
            ]
          },
          "metadata": {
            "tags": []
          },
          "execution_count": 8
        },
        {
          "output_type": "display_data",
          "data": {
            "image/png": "[encoded data removed]",
            "text/plain": [
              "<Figure size 432x288 with 1 Axes>"
            ]
          },
          "metadata": {
            "tags": [],
            "needs_background": "light"
          }
        }
      ]
    },
    {
      "cell_type": "markdown",
      "metadata": {
        "id": "3MiqKOJ5Gdzl"
      },
      "source": [
        "Calculando a Regressão e Correlação"
      ]
    },
    {
      "cell_type": "code",
      "metadata": {
        "colab": {
          "base_uri": "https://localhost:8080/",
          "height": 319
        },
        "id": "MR3CUM0pGgzj",
        "outputId": "c845b92f-5852-44ca-da4d-d19bf0a3ccc0"
      },
      "source": [
        "regr = linear_model.LinearRegression()\n",
        "regr.fit(Receita.reshape(-1,1),Preco)\n",
        "y = regr.predict(Receita.reshape(-1,1))\n",
        "\n",
        "print (f'Coeficiente de correlação de Pearson: {regr.coef_}')\n",
        "print (f'Intercepta em Y: {regr.intercept_}')\n",
        "\n",
        "plt.scatter(Receita, Preco);\n",
        "plt.plot(Receita,y,color = 'red')\n"
      ],
      "execution_count": 19,
      "outputs": [
        {
          "output_type": "stream",
          "text": [
            "Coeficiente de correlação de Pearson: [0.59965011]\n",
            "Intercepta em Y: 5.433432154118513\n"
          ],
          "name": "stdout"
        },
        {
          "output_type": "execute_result",
          "data": {
            "text/plain": [
              "[<matplotlib.lines.Line2D at 0x7f737456c160>]"
            ]
          },
          "metadata": {
            "tags": []
          },
          "execution_count": 19
        },
        {
          "output_type": "display_data",
          "data": {
            "image/png": "[encoded data removed]",
            "text/plain": [
              "<Figure size 432x288 with 1 Axes>"
            ]
          },
          "metadata": {
            "tags": [],
            "needs_background": "light"
          }
        }
      ]
    }
  ]
}